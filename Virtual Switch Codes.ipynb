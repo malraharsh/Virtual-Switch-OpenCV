{
 "cells": [
  {
   "cell_type": "code",
   "execution_count": 3,
   "metadata": {},
   "outputs": [],
   "source": [
    "import numpy as np\n",
    "import cv2\n",
    "import time\n",
    "\n",
    "import imutils\n",
    "from imutils.video import FileVideoStream, VideoStream\n",
    "from utils import *"
   ]
  },
  {
   "cell_type": "code",
   "execution_count": 4,
   "metadata": {},
   "outputs": [],
   "source": [
    "class Switch():\n",
    "    \n",
    "    def __init__(self, THRESH=200):\n",
    "        self.THRESH = THRESH\n",
    "        self.last_switch = time.time()\n",
    "        self.setup()\n",
    "        self.gap = 1 # gap btw two switch press\n",
    "    \n",
    "    \n",
    "    def setup(self):      \n",
    "        self.backgroundobject = cv2.createBackgroundSubtractorMOG2(detectShadows = False)\n",
    "\n",
    "        fvs = FileVideoStream(path).start()\n",
    "        time.sleep(2.0) #to allow web cam to open\n",
    "        TIMER_SETUP = 2 # timer for capturing base image, get reading in posture\n",
    "        t = time.time()\n",
    "\n",
    "        while True:\n",
    "            frame = get_frame(fvs)\n",
    "            if frame is None:\n",
    "                break\n",
    "            curr = (time.time() - t)\n",
    "            if curr > TIMER_SETUP:\n",
    "                break\n",
    "            cv2.putText(frame, str(int(TIMER_SETUP - curr)+1), POS_SCREEN, cv2.FONT_HERSHEY_SIMPLEX, 1.5, COLOR_RED, 4)\n",
    "            cv2.imshow(\"Setup\", frame)\n",
    "            cv2.waitKey(1)\n",
    "        \n",
    "        cv2.destroyAllWindows()\n",
    "        \n",
    "        cv2.putText(frame, 'Select Region for Switch', POS_SCREEN, cv2.FONT_HERSHEY_SIMPLEX, 0.75, COLOR_RED, 2)\n",
    "        self.bbox = cv2.selectROI(frame, False) # bounding box\n",
    "        cv2.destroyAllWindows()\n",
    "    \n",
    "    \n",
    "    def update(self, frame): # returns True if Switch is pressed.\n",
    "        x, y, w, h = self.bbox\n",
    "        region = frame[y:y+h, x:x+w]\n",
    "        fgmask = self.backgroundobject.apply(region)\n",
    "\n",
    "        switch_thresh = np.sum(fgmask==255)\n",
    "        cv2.putText(frame, str(switch_thresh), POS_SCREEN, cv2.FONT_HERSHEY_SIMPLEX, 0.75, COLOR_RED, 2)\n",
    "        drawbox(self.bbox, frame) # shows the region of switch\n",
    "        if time.time() - self.last_switch < self.gap:\n",
    "            drawbox(self.bbox, frame, -1) # fills the rect when pressed (-1)\n",
    "        if switch_thresh>self.THRESH and time.time() - self.last_switch > self.gap:  # to avoid continuous press (atleast small delay)\n",
    "            drawbox(self.bbox, frame, -1)\n",
    "            self.last_switch = time.time() # last switch time\n",
    "            return True\n",
    "        return False\n",
    "    "
   ]
  },
  {
   "cell_type": "code",
   "execution_count": 9,
   "metadata": {
    "scrolled": true
   },
   "outputs": [],
   "source": [
    "switch = Switch(500)\n",
    "bbox = switch.bbox"
   ]
  },
  {
   "cell_type": "code",
   "execution_count": 7,
   "metadata": {},
   "outputs": [],
   "source": [
    "color = 3\n",
    "def change():\n",
    "    global color\n",
    "    color = (color + 1) % 4\n",
    "\n",
    "def colorFrame(frame):\n",
    "    if color == 3: return \n",
    "    for i in range(3):\n",
    "        if i == color: continue\n",
    "        frame[:, :, i] = 0"
   ]
  },
  {
   "cell_type": "code",
   "execution_count": 11,
   "metadata": {},
   "outputs": [],
   "source": [
    "fvs = FileVideoStream(path).start() #vs Video Stream\n",
    "time.sleep(0.3) #to allow web cam to open\n",
    "\n",
    "color = 3\n",
    "\n",
    "while True:\n",
    "    frame = get_frame(fvs)\n",
    "    if frame is None:\n",
    "        break\n",
    "    orig = frame.copy()\n",
    "    drawbox(bbox, orig)\n",
    "    if switch.update(frame): # if pressed changes the color\n",
    "        change()\n",
    "        \n",
    "    colorFrame(frame)\n",
    "    cv2.imshow(\"Original\", orig)\n",
    "    cv2.imshow(\"Result\", frame)\n",
    "    \n",
    "    k = cv2.waitKey(1) & 0xff\n",
    "    if k == 13:\n",
    "        break\n",
    "\n",
    "cv2.destroyAllWindows()\n",
    "fvs.stop()"
   ]
  },
  {
   "cell_type": "code",
   "execution_count": null,
   "metadata": {},
   "outputs": [],
   "source": [
    "cv2.destroyAllWindows()\n",
    "fvs.stop()"
   ]
  }
 ],
 "metadata": {
  "kernelspec": {
   "display_name": "Python 3",
   "language": "python",
   "name": "python3"
  },
  "language_info": {
   "codemirror_mode": {
    "name": "ipython",
    "version": 3
   },
   "file_extension": ".py",
   "mimetype": "text/x-python",
   "name": "python",
   "nbconvert_exporter": "python",
   "pygments_lexer": "ipython3",
   "version": "3.7.5"
  }
 },
 "nbformat": 4,
 "nbformat_minor": 2
}
